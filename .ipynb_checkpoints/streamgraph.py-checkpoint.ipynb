{
 "cells": [
  {
   "cell_type": "code",
   "execution_count": 134,
   "metadata": {},
   "outputs": [],
   "source": [
    "import numpy as np\n",
    "import pandas as pd\n",
    "from pandas import Series, DataFrame \n",
    "import matplotlib.pyplot as plt\n",
    "plt.style.use('fivethirtyeight')\n",
    "import re\n",
    "import seaborn as sns\n",
    "from scipy import stats\n",
    "from scipy.stats import norm\n",
    "from sklearn.preprocessing import StandardScaler\n",
    "from time import strptime\n",
    "%matplotlib inline"
   ]
  },
  {
   "cell_type": "code",
   "execution_count": 135,
   "metadata": {},
   "outputs": [],
   "source": [
    "df_1 = pd.read_csv('/Users/WilliamStevens/Documents/deplorable_snowflake/ds/static/data/israel/streamGraphData.csv')"
   ]
  },
  {
   "cell_type": "code",
   "execution_count": 136,
   "metadata": {},
   "outputs": [
    {
     "name": "stdout",
     "output_type": "stream",
     "text": [
      "           TERRORIST FATALITIES INJURED COUNTRY        ATTACK TYPE\n",
      "count           1718       1718    1718    1718               1718\n",
      "unique             9          9      11       2                 16\n",
      "top     Palestinians          0       0  Israel  Bombing/Explosion\n",
      "freq             676        924     906     961                754\n"
     ]
    }
   ],
   "source": [
    "#print(df_1.head())\n",
    "#print(df_1.shape)\n",
    "#print(df_1.dtypes)\n",
    "#print(df_1.info())\n",
    "print(df_1.describe(include=['object']))"
   ]
  },
  {
   "cell_type": "code",
   "execution_count": 137,
   "metadata": {},
   "outputs": [],
   "source": [
    "df_2 = df_1.drop(['COUNTRY', 'ATTACK TYPE'], axis=1)"
   ]
  },
  {
   "cell_type": "code",
   "execution_count": 138,
   "metadata": {},
   "outputs": [
    {
     "name": "stdout",
     "output_type": "stream",
     "text": [
      "                 TERRORIST  DATE  INCIDENTS FATALITIES INJURED\n",
      "0  Al-Aqsa Martyrs Brigade  2000          2          1       1\n",
      "1  Al-Aqsa Martyrs Brigade  2001          1          1       0\n",
      "2  Al-Aqsa Martyrs Brigade  2001          2          1       1\n",
      "3  Al-Aqsa Martyrs Brigade  2001          1          1       0\n",
      "4  Al-Aqsa Martyrs Brigade  2001          5          3       2\n"
     ]
    }
   ],
   "source": [
    "print(df_2.head())"
   ]
  },
  {
   "cell_type": "code",
   "execution_count": 139,
   "metadata": {},
   "outputs": [],
   "source": [
    "def clean(row):\n",
    "    incidents = row['INCIDENTS']\n",
    "    fatalities = row['FATALITIES']\n",
    "    injured = row['INJURED']\n",
    "    incidents = str(incidents).replace('Unknown', '')\n",
    "    fatalities = str(fatalities).replace('Unknown', '')\n",
    "    injured = str(injured).replace('Unknown', '')\n",
    "    \n",
    "    return pd.Series([incidents, fatalities, injured])"
   ]
  },
  {
   "cell_type": "code",
   "execution_count": 140,
   "metadata": {},
   "outputs": [],
   "source": [
    "df_2[['INCIDENTS', 'FATALITIES', 'INJURED']] = df_2.apply(clean, axis=1)"
   ]
  },
  {
   "cell_type": "code",
   "execution_count": 141,
   "metadata": {},
   "outputs": [
    {
     "name": "stdout",
     "output_type": "stream",
     "text": [
      "                 TERRORIST  DATE INCIDENTS FATALITIES INJURED\n",
      "0  Al-Aqsa Martyrs Brigade  2000         2          1       1\n",
      "1  Al-Aqsa Martyrs Brigade  2001         1          1       0\n",
      "2  Al-Aqsa Martyrs Brigade  2001         2          1       1\n",
      "3  Al-Aqsa Martyrs Brigade  2001         1          1       0\n",
      "4  Al-Aqsa Martyrs Brigade  2001         5          3       2\n"
     ]
    }
   ],
   "source": [
    "print(df_2.head())"
   ]
  },
  {
   "cell_type": "code",
   "execution_count": 142,
   "metadata": {},
   "outputs": [],
   "source": [
    "df_2 = df_2.drop(['INCIDENTS'], axis=1)"
   ]
  },
  {
   "cell_type": "code",
   "execution_count": 143,
   "metadata": {},
   "outputs": [
    {
     "name": "stdout",
     "output_type": "stream",
     "text": [
      "                 TERRORIST  DATE FATALITIES INJURED\n",
      "0  Al-Aqsa Martyrs Brigade  2000          1       1\n",
      "1  Al-Aqsa Martyrs Brigade  2001          1       0\n",
      "2  Al-Aqsa Martyrs Brigade  2001          1       1\n",
      "3  Al-Aqsa Martyrs Brigade  2001          1       0\n",
      "4  Al-Aqsa Martyrs Brigade  2001          3       2\n"
     ]
    }
   ],
   "source": [
    "print(df_2.head())"
   ]
  },
  {
   "cell_type": "code",
   "execution_count": 144,
   "metadata": {},
   "outputs": [],
   "source": [
    "df_3 = df_2.groupby(by=['TERRORIST','DATE']).agg({'FATALITIES': 'sum',\n",
    "                              'INJURED': 'sum'})"
   ]
  },
  {
   "cell_type": "code",
   "execution_count": 145,
   "metadata": {},
   "outputs": [
    {
     "name": "stdout",
     "output_type": "stream",
     "text": [
      "                                          FATALITIES                 INJURED\n",
      "TERRORIST               DATE                                                \n",
      "Al-Aqsa Martyrs Brigade 2000                       1                       1\n",
      "                        2001           1113111110100           0102101100010\n",
      "                        2002  1441133111111111222142  1200312241010052014230\n",
      "                        2003             01114011001             23003200040\n",
      "                        2004                    0101                    2003\n"
     ]
    }
   ],
   "source": [
    "print(df_3.head())"
   ]
  },
  {
   "cell_type": "code",
   "execution_count": 146,
   "metadata": {},
   "outputs": [],
   "source": [
    "df_3.to_csv('streamGraphDataNew.csv')"
   ]
  },
  {
   "cell_type": "code",
   "execution_count": null,
   "metadata": {},
   "outputs": [],
   "source": []
  },
  {
   "cell_type": "code",
   "execution_count": null,
   "metadata": {},
   "outputs": [],
   "source": []
  },
  {
   "cell_type": "code",
   "execution_count": null,
   "metadata": {},
   "outputs": [],
   "source": []
  },
  {
   "cell_type": "code",
   "execution_count": null,
   "metadata": {},
   "outputs": [],
   "source": [
    "def clean_2(row):\n",
    "    fatalities = row['FATALITIES']\n",
    "    injured = row['INJURED']\n",
    "    \n",
    "    fatalities = pd.to_numeric(df_2['FATALITIES'])\n",
    "    injured = pd.to_numeric(df_2['INJURED'])\n",
    "    \n",
    "    return pd.Series([fatalities, injured])"
   ]
  },
  {
   "cell_type": "code",
   "execution_count": null,
   "metadata": {},
   "outputs": [],
   "source": [
    "df_2[['FATALITIES', 'INJURED']] = df_2.apply(clean_2, axis=1)"
   ]
  },
  {
   "cell_type": "code",
   "execution_count": 59,
   "metadata": {},
   "outputs": [
    {
     "data": {
      "text/plain": [
       "TERRORIST                                             DATE\n",
       "Al-Aqsa Martyrs Brigade                               2000     1\n",
       "                                                      2001    13\n",
       "                                                      2002    23\n",
       "                                                      2003    11\n",
       "                                                      2004     4\n",
       "                                                      2005     5\n",
       "                                                      2006    11\n",
       "                                                      2007    11\n",
       "                                                      2008    11\n",
       "                                                      2009     1\n",
       "                                                      2010     1\n",
       "                                                      2013     4\n",
       "                                                      2014     1\n",
       "                                                      2015     4\n",
       "                                                      2016     2\n",
       "Hamas (Islamic Resistance Movement)                   1989     2\n",
       "                                                      1990     2\n",
       "                                                      1991     2\n",
       "                                                      1992     9\n",
       "                                                      1994    24\n",
       "                                                      1995     2\n",
       "                                                      1998     3\n",
       "                                                      1999     2\n",
       "                                                      2000     1\n",
       "                                                      2001    14\n",
       "                                                      2002    11\n",
       "                                                      2003    25\n",
       "                                                      2004     5\n",
       "                                                      2005    15\n",
       "                                                      2006     9\n",
       "                                                              ..\n",
       "Palestinians                                          1991    72\n",
       "                                                      1992    84\n",
       "                                                      1994    42\n",
       "                                                      1995     7\n",
       "                                                      1997     1\n",
       "                                                      2001    14\n",
       "                                                      2002     7\n",
       "Popular Front for the Liberation of Palestine (PFLP)  1974     1\n",
       "                                                      1976     1\n",
       "                                                      1979     2\n",
       "                                                      1980     3\n",
       "                                                      1981     1\n",
       "                                                      1982     2\n",
       "                                                      1984     3\n",
       "                                                      1986     1\n",
       "                                                      1987     2\n",
       "                                                      1989     2\n",
       "                                                      1990     3\n",
       "                                                      1992     2\n",
       "                                                      1994     1\n",
       "                                                      1996     1\n",
       "                                                      2001    10\n",
       "                                                      2002     5\n",
       "                                                      2004     1\n",
       "                                                      2005     4\n",
       "                                                      2007     2\n",
       "                                                      2008    18\n",
       "                                                      2009     1\n",
       "                                                      2011     1\n",
       "                                                      2012     2\n",
       "Length: 157, dtype: int64"
      ]
     },
     "execution_count": 59,
     "metadata": {},
     "output_type": "execute_result"
    }
   ],
   "source": [
    "df_2.groupby(['TERRORIST', 'DATE']).size()"
   ]
  },
  {
   "cell_type": "code",
   "execution_count": 36,
   "metadata": {},
   "outputs": [],
   "source": [
    "df_3 = df_2.groupby(by='DATE').agg({'INCIDENTS': 'sum',\n",
    "                              'FATALITIES': 'sum',\n",
    "                              'INJURED': 'sum'})"
   ]
  },
  {
   "cell_type": "code",
   "execution_count": 37,
   "metadata": {},
   "outputs": [
    {
     "name": "stdout",
     "output_type": "stream",
     "text": [
      "                                             INCIDENTS        FATALITIES  \\\n",
      "DATE                                                                       \n",
      "1972        0.00.00.00.00.00.00.00.00.00.00.00.00.00.0    00000000000000   \n",
      "1974                                         0.30.20.7         0.10.10.7   \n",
      "1976                                               0.8                 0   \n",
      "1977                                      0.10.10.10.0        0.10.10.10   \n",
      "1978  0.60.10.20.00.00.70.70.00.20.00.00.00.00.00.00.0  00.1000000000000   \n",
      "\n",
      "                      INJURED  \n",
      "DATE                           \n",
      "1972           00000000000000  \n",
      "1974                  0.20.10  \n",
      "1976                      0.8  \n",
      "1977                     0000  \n",
      "1978  0.600.200.70.700.200000  \n"
     ]
    }
   ],
   "source": [
    "print(df_3.head())"
   ]
  },
  {
   "cell_type": "code",
   "execution_count": null,
   "metadata": {},
   "outputs": [],
   "source": []
  }
 ],
 "metadata": {
  "kernelspec": {
   "display_name": "Python 3",
   "language": "python",
   "name": "python3"
  },
  "language_info": {
   "codemirror_mode": {
    "name": "ipython",
    "version": 3
   },
   "file_extension": ".py",
   "mimetype": "text/x-python",
   "name": "python",
   "nbconvert_exporter": "python",
   "pygments_lexer": "ipython3",
   "version": "3.6.5"
  }
 },
 "nbformat": 4,
 "nbformat_minor": 2
}
